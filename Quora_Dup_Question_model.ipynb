{
  "nbformat": 4,
  "nbformat_minor": 0,
  "metadata": {
    "colab": {
      "name": "Quora_Dup_Question_model.ipynb",
      "provenance": [],
      "collapsed_sections": [],
      "authorship_tag": "ABX9TyPV9T2w9I/hXYrBzltYVivt",
      "include_colab_link": true
    },
    "kernelspec": {
      "name": "python3",
      "display_name": "Python 3"
    },
    "accelerator": "GPU"
  },
  "cells": [
    {
      "cell_type": "markdown",
      "metadata": {
        "id": "view-in-github",
        "colab_type": "text"
      },
      "source": [
        "<a href=\"https://colab.research.google.com/github/Suhit97/Quora-Question-Similarity/blob/master/Quora_Dup_Question_model.ipynb\" target=\"_parent\"><img src=\"https://colab.research.google.com/assets/colab-badge.svg\" alt=\"Open In Colab\"/></a>"
      ]
    },
    {
      "cell_type": "code",
      "metadata": {
        "id": "OBX4r_7Ty7Xu",
        "colab_type": "code",
        "colab": {
          "base_uri": "https://localhost:8080/",
          "height": 129
        },
        "outputId": "f43be633-0e57-4317-bcbd-458e7905621e"
      },
      "source": [
        "from google.colab import drive\n",
        "drive.mount('/content/gdrive')"
      ],
      "execution_count": null,
      "outputs": [
        {
          "output_type": "stream",
          "text": [
            "Go to this URL in a browser: https://accounts.google.com/o/oauth2/auth?client_id=947318989803-6bn6qk8qdgf4n4g3pfee6491hc0brc4i.apps.googleusercontent.com&redirect_uri=urn%3aietf%3awg%3aoauth%3a2.0%3aoob&scope=email%20https%3a%2f%2fwww.googleapis.com%2fauth%2fdocs.test%20https%3a%2f%2fwww.googleapis.com%2fauth%2fdrive%20https%3a%2f%2fwww.googleapis.com%2fauth%2fdrive.photos.readonly%20https%3a%2f%2fwww.googleapis.com%2fauth%2fpeopleapi.readonly&response_type=code\n",
            "\n",
            "Enter your authorization code:\n",
            "··········\n",
            "Mounted at /content/gdrive\n"
          ],
          "name": "stdout"
        }
      ]
    },
    {
      "cell_type": "code",
      "metadata": {
        "id": "4sGj6xRdzoQZ",
        "colab_type": "code",
        "colab": {}
      },
      "source": [
        "import tensorflow as tf\n",
        "import numpy as np\n",
        "import pandas as pd\n",
        "from os.path import expanduser, exists\n",
        "import json, datetime, time\n",
        "\n",
        "from sklearn.model_selection import train_test_split"
      ],
      "execution_count": null,
      "outputs": []
    },
    {
      "cell_type": "code",
      "metadata": {
        "id": "nqhPUwC3z0vu",
        "colab_type": "code",
        "colab": {}
      },
      "source": [
        "DATASETS_DIR = \"/content/gdrive/My Drive/quora_dup/\"\n",
        "\n",
        "\n",
        "Q1_TRAINING_DATA_FILE = DATASETS_DIR + 'q1_train.npy'\n",
        "Q2_TRAINING_DATA_FILE = DATASETS_DIR + 'q2_train.npy'\n",
        "LABEL_TRAINING_DATA_FILE = DATASETS_DIR + 'label_train.npy'\n",
        "WORD_EMBEDDING_MATRIX_FILE = DATASETS_DIR + 'word_embedding_matrix.npy'\n",
        "NB_WORDS_DATA_FILE = DATASETS_DIR + 'nb_words.json'\n",
        "\n",
        "\n",
        "MAX_NB_WORDS = 200000\n",
        "MAX_SEQUENCE_LENGTH = 25\n",
        "EMBEDDING_DIM = 300\n",
        "MODEL_WEIGHTS_FILE = 'question_pairs_weights.h5'\n",
        "VALIDATION_SPLIT = 0.1\n",
        "TEST_SPLIT = 0.1\n",
        "RNG_SEED = 1997\n",
        "NB_EPOCHS = 25\n",
        "DROPOUT = 0.1\n",
        "BATCH_SIZE = 32\n",
        "OPTIMIZER = 'adam'"
      ],
      "execution_count": null,
      "outputs": []
    },
    {
      "cell_type": "code",
      "metadata": {
        "id": "r7DiETGq04v_",
        "colab_type": "code",
        "colab": {}
      },
      "source": [
        "if exists(Q1_TRAINING_DATA_FILE) and exists(Q2_TRAINING_DATA_FILE) and exists(LABEL_TRAINING_DATA_FILE) and exists(NB_WORDS_DATA_FILE) and exists(WORD_EMBEDDING_MATRIX_FILE):\n",
        "    # Then load them\n",
        "    q1_data = np.load(open(Q1_TRAINING_DATA_FILE, 'rb'))\n",
        "    q2_data = np.load(open(Q2_TRAINING_DATA_FILE, 'rb'))\n",
        "    labels = np.load(open(LABEL_TRAINING_DATA_FILE, 'rb'))\n",
        "    word_embedding_matrix = np.load(open(WORD_EMBEDDING_MATRIX_FILE, 'rb'))\n",
        "    with open(NB_WORDS_DATA_FILE, 'r') as f:\n",
        "        nb_words = json.load(f)['nb_words']\n",
        "\n",
        "else:\n",
        "  print(\"error loading file\")"
      ],
      "execution_count": null,
      "outputs": []
    },
    {
      "cell_type": "code",
      "metadata": {
        "id": "kOFPTJef1KH6",
        "colab_type": "code",
        "colab": {}
      },
      "source": [
        "# Partition the dataset into train and test sets\n",
        "X = np.stack((q1_data, q2_data), axis=1)\n",
        "y = labels\n",
        "X_train, X_test, y_train, y_test = train_test_split(X, y, test_size=TEST_SPLIT, random_state=RNG_SEED)\n",
        "Q1_train = X_train[:,0]\n",
        "Q2_train = X_train[:,1]\n",
        "Q1_test = X_test[:,0]\n",
        "Q2_test = X_test[:,1]"
      ],
      "execution_count": null,
      "outputs": []
    },
    {
      "cell_type": "code",
      "metadata": {
        "id": "fUba8GOZAaZE",
        "colab_type": "code",
        "colab": {}
      },
      "source": [
        "\n",
        "from tensorflow.keras.models import Model\n",
        "from tensorflow.keras.layers import Input, TimeDistributed, Dense, Lambda, concatenate, Dropout, BatchNormalization\n",
        "from tensorflow.keras.layers import Embedding\n",
        "from tensorflow.keras.regularizers import l2\n",
        "from tensorflow.keras.callbacks import Callback, ModelCheckpoint\n",
        "from tensorflow.keras import backend as K"
      ],
      "execution_count": null,
      "outputs": []
    },
    {
      "cell_type": "code",
      "metadata": {
        "id": "DOguJymmAJ2I",
        "colab_type": "code",
        "colab": {}
      },
      "source": [
        "# Define the model\n",
        "question1 = Input(shape=(MAX_SEQUENCE_LENGTH,))\n",
        "question2 = Input(shape=(MAX_SEQUENCE_LENGTH,))"
      ],
      "execution_count": null,
      "outputs": []
    },
    {
      "cell_type": "code",
      "metadata": {
        "id": "M4hTeT1HBYnF",
        "colab_type": "code",
        "colab": {}
      },
      "source": [
        "q1 = Embedding(nb_words + 1, \n",
        "                 EMBEDDING_DIM, \n",
        "                 weights=[word_embedding_matrix], \n",
        "                 input_length=MAX_SEQUENCE_LENGTH, \n",
        "                 trainable=False)(question1)\n",
        "q1 = TimeDistributed(Dense(EMBEDDING_DIM, activation='relu'))(q1)\n",
        "q1 = Lambda(lambda x: K.max(x, axis=1), output_shape=(EMBEDDING_DIM, ))(q1)\n",
        "\n",
        "q2 = Embedding(nb_words + 1, \n",
        "                 EMBEDDING_DIM, \n",
        "                 weights=[word_embedding_matrix], \n",
        "                 input_length=MAX_SEQUENCE_LENGTH, \n",
        "                 trainable=False)(question2)\n",
        "q2 = TimeDistributed(Dense(EMBEDDING_DIM, activation='relu'))(q2)\n",
        "q2 = Lambda(lambda x: K.max(x, axis=1), output_shape=(EMBEDDING_DIM, ))(q2)\n",
        "\n",
        "merged = concatenate([q1,q2])\n",
        "merged = Dense(200, activation='relu')(merged)\n",
        "merged = Dropout(DROPOUT)(merged)\n",
        "merged = BatchNormalization()(merged)\n",
        "merged = Dense(200, activation='relu')(merged)\n",
        "merged = Dropout(DROPOUT)(merged)\n",
        "merged = BatchNormalization()(merged)\n",
        "merged = Dense(200, activation='relu')(merged)\n",
        "merged = Dropout(DROPOUT)(merged)\n",
        "merged = BatchNormalization()(merged)\n",
        "merged = Dense(200, activation='relu')(merged)\n",
        "merged = Dropout(DROPOUT)(merged)\n",
        "merged = BatchNormalization()(merged)\n",
        "\n",
        "is_duplicate = Dense(1, activation='sigmoid')(merged)\n",
        "\n",
        "model = Model(inputs=[question1,question2], outputs=is_duplicate)\n",
        "model.compile(loss='binary_crossentropy', optimizer=OPTIMIZER, metrics=['accuracy'])\n"
      ],
      "execution_count": null,
      "outputs": []
    },
    {
      "cell_type": "code",
      "metadata": {
        "id": "VuDpw1xSBkT7",
        "colab_type": "code",
        "colab": {
          "base_uri": "https://localhost:8080/",
          "height": 1000
        },
        "outputId": "355ad38f-1e52-4ec6-bb38-350d49d42637"
      },
      "source": [
        "# Train the model, checkpointing weights with best validation accuracy\n",
        "print(\"Starting training at\", datetime.datetime.now())\n",
        "t0 = time.time()\n",
        "callbacks = [ModelCheckpoint(MODEL_WEIGHTS_FILE, monitor='val_acc', save_best_only=True)]\n",
        "history = model.fit([Q1_train, Q2_train],\n",
        "                    y_train,\n",
        "                    epochs=NB_EPOCHS,\n",
        "                    validation_split=VALIDATION_SPLIT,\n",
        "                    verbose=2,\n",
        "                    batch_size=BATCH_SIZE,\n",
        "                    callbacks=callbacks)\n",
        "\n"
      ],
      "execution_count": null,
      "outputs": [
        {
          "output_type": "stream",
          "text": [
            "Starting training at 2020-08-14 09:39:39.983185\n",
            "Epoch 1/25\n",
            "WARNING:tensorflow:Can save best model only with val_acc available, skipping.\n",
            "10234/10234 - 90s - loss: 0.5376 - accuracy: 0.7288 - val_loss: 0.4850 - val_accuracy: 0.7610\n",
            "Epoch 2/25\n",
            "WARNING:tensorflow:Can save best model only with val_acc available, skipping.\n",
            "10234/10234 - 88s - loss: 0.4872 - accuracy: 0.7612 - val_loss: 0.4672 - val_accuracy: 0.7760\n",
            "Epoch 3/25\n",
            "WARNING:tensorflow:Can save best model only with val_acc available, skipping.\n",
            "10234/10234 - 88s - loss: 0.4596 - accuracy: 0.7781 - val_loss: 0.4589 - val_accuracy: 0.7713\n",
            "Epoch 4/25\n",
            "WARNING:tensorflow:Can save best model only with val_acc available, skipping.\n",
            "10234/10234 - 88s - loss: 0.4379 - accuracy: 0.7910 - val_loss: 0.4304 - val_accuracy: 0.7924\n",
            "Epoch 5/25\n",
            "WARNING:tensorflow:Can save best model only with val_acc available, skipping.\n",
            "10234/10234 - 89s - loss: 0.4182 - accuracy: 0.8028 - val_loss: 0.4231 - val_accuracy: 0.7968\n",
            "Epoch 6/25\n",
            "WARNING:tensorflow:Can save best model only with val_acc available, skipping.\n",
            "10234/10234 - 88s - loss: 0.4036 - accuracy: 0.8130 - val_loss: 0.4211 - val_accuracy: 0.7985\n",
            "Epoch 7/25\n",
            "WARNING:tensorflow:Can save best model only with val_acc available, skipping.\n",
            "10234/10234 - 88s - loss: 0.3877 - accuracy: 0.8220 - val_loss: 0.4163 - val_accuracy: 0.8028\n",
            "Epoch 8/25\n",
            "WARNING:tensorflow:Can save best model only with val_acc available, skipping.\n",
            "10234/10234 - 89s - loss: 0.3753 - accuracy: 0.8294 - val_loss: 0.4065 - val_accuracy: 0.8044\n",
            "Epoch 9/25\n",
            "WARNING:tensorflow:Can save best model only with val_acc available, skipping.\n",
            "10234/10234 - 87s - loss: 0.3635 - accuracy: 0.8360 - val_loss: 0.4025 - val_accuracy: 0.8099\n",
            "Epoch 10/25\n",
            "WARNING:tensorflow:Can save best model only with val_acc available, skipping.\n",
            "10234/10234 - 87s - loss: 0.3538 - accuracy: 0.8421 - val_loss: 0.4061 - val_accuracy: 0.8098\n",
            "Epoch 11/25\n",
            "WARNING:tensorflow:Can save best model only with val_acc available, skipping.\n",
            "10234/10234 - 87s - loss: 0.3459 - accuracy: 0.8465 - val_loss: 0.4138 - val_accuracy: 0.8010\n",
            "Epoch 12/25\n",
            "WARNING:tensorflow:Can save best model only with val_acc available, skipping.\n",
            "10234/10234 - 88s - loss: 0.3367 - accuracy: 0.8512 - val_loss: 0.4102 - val_accuracy: 0.8104\n",
            "Epoch 13/25\n",
            "WARNING:tensorflow:Can save best model only with val_acc available, skipping.\n",
            "10234/10234 - 88s - loss: 0.3329 - accuracy: 0.8538 - val_loss: 0.4141 - val_accuracy: 0.8076\n",
            "Epoch 14/25\n",
            "WARNING:tensorflow:Can save best model only with val_acc available, skipping.\n",
            "10234/10234 - 87s - loss: 0.3227 - accuracy: 0.8597 - val_loss: 0.4068 - val_accuracy: 0.8079\n",
            "Epoch 15/25\n",
            "WARNING:tensorflow:Can save best model only with val_acc available, skipping.\n",
            "10234/10234 - 89s - loss: 0.3159 - accuracy: 0.8626 - val_loss: 0.4053 - val_accuracy: 0.8153\n",
            "Epoch 16/25\n",
            "WARNING:tensorflow:Can save best model only with val_acc available, skipping.\n",
            "10234/10234 - 87s - loss: 0.3133 - accuracy: 0.8640 - val_loss: 0.4655 - val_accuracy: 0.8070\n",
            "Epoch 17/25\n",
            "WARNING:tensorflow:Can save best model only with val_acc available, skipping.\n",
            "10234/10234 - 89s - loss: 0.3104 - accuracy: 0.8654 - val_loss: 0.4358 - val_accuracy: 0.8129\n",
            "Epoch 18/25\n",
            "WARNING:tensorflow:Can save best model only with val_acc available, skipping.\n",
            "10234/10234 - 88s - loss: 0.3056 - accuracy: 0.8675 - val_loss: 0.4783 - val_accuracy: 0.8119\n",
            "Epoch 19/25\n",
            "WARNING:tensorflow:Can save best model only with val_acc available, skipping.\n",
            "10234/10234 - 89s - loss: 0.3010 - accuracy: 0.8700 - val_loss: 0.5331 - val_accuracy: 0.8064\n",
            "Epoch 20/25\n",
            "WARNING:tensorflow:Can save best model only with val_acc available, skipping.\n",
            "10234/10234 - 89s - loss: 0.2956 - accuracy: 0.8731 - val_loss: 0.4376 - val_accuracy: 0.8124\n",
            "Epoch 21/25\n",
            "WARNING:tensorflow:Can save best model only with val_acc available, skipping.\n",
            "10234/10234 - 88s - loss: 0.2898 - accuracy: 0.8763 - val_loss: 0.5897 - val_accuracy: 0.8143\n",
            "Epoch 22/25\n",
            "WARNING:tensorflow:Can save best model only with val_acc available, skipping.\n",
            "10234/10234 - 90s - loss: 0.2870 - accuracy: 0.8771 - val_loss: 0.4184 - val_accuracy: 0.8090\n",
            "Epoch 23/25\n",
            "WARNING:tensorflow:Can save best model only with val_acc available, skipping.\n",
            "10234/10234 - 88s - loss: 0.2814 - accuracy: 0.8802 - val_loss: 0.4089 - val_accuracy: 0.8145\n",
            "Epoch 24/25\n",
            "WARNING:tensorflow:Can save best model only with val_acc available, skipping.\n",
            "10234/10234 - 86s - loss: 0.2760 - accuracy: 0.8828 - val_loss: 0.4186 - val_accuracy: 0.8162\n",
            "Epoch 25/25\n",
            "WARNING:tensorflow:Can save best model only with val_acc available, skipping.\n",
            "10234/10234 - 88s - loss: 0.2713 - accuracy: 0.8849 - val_loss: 0.4268 - val_accuracy: 0.8067\n"
          ],
          "name": "stdout"
        }
      ]
    },
    {
      "cell_type": "code",
      "metadata": {
        "id": "TWuvvZtaXBv3",
        "colab_type": "code",
        "colab": {
          "base_uri": "https://localhost:8080/",
          "height": 610
        },
        "outputId": "1b822215-ccc6-4884-9345-ea5e0a9b5bf1"
      },
      "source": [
        "import matplotlib.image  as mpimg\n",
        "import matplotlib.pyplot as plt\n",
        "\n",
        "#-----------------------------------------------------------\n",
        "# Retrieve a list of list results on training and test data\n",
        "# sets for each training epoch\n",
        "#-----------------------------------------------------------\n",
        "acc=history.history['accuracy']\n",
        "val_acc=history.history['val_accuracy']\n",
        "loss=history.history['loss']\n",
        "val_loss=history.history['val_loss']\n",
        "\n",
        "epochs=range(len(acc)) # Get number of epochs\n",
        "\n",
        "#------------------------------------------------\n",
        "# Plot training and validation accuracy per epoch\n",
        "#------------------------------------------------\n",
        "plt.plot(epochs, acc, 'r')\n",
        "plt.plot(epochs, val_acc, 'b')\n",
        "plt.title('Training and validation accuracy')\n",
        "plt.xlabel(\"Epochs\")\n",
        "plt.ylabel(\"Accuracy\")\n",
        "plt.legend([\"Accuracy\", \"Validation Accuracy\"])\n",
        "\n",
        "plt.figure()\n",
        "\n",
        "#------------------------------------------------\n",
        "# Plot training and validation loss per epoch\n",
        "#------------------------------------------------\n",
        "plt.plot(epochs, loss, 'r')\n",
        "plt.plot(epochs, val_loss, 'b')\n",
        "plt.title('Training and validation loss')\n",
        "plt.xlabel(\"Epochs\")\n",
        "plt.ylabel(\"Loss\")\n",
        "plt.legend([\"Loss\", \"Validation Loss\"])\n",
        "\n",
        "plt.figure()"
      ],
      "execution_count": null,
      "outputs": [
        {
          "output_type": "execute_result",
          "data": {
            "text/plain": [
              "<Figure size 432x288 with 0 Axes>"
            ]
          },
          "metadata": {
            "tags": []
          },
          "execution_count": 13
        },
        {
          "output_type": "display_data",
          "data": {
            "image/png": "[encoded data removed]",
            "text/plain": [
              "<Figure size 432x288 with 1 Axes>"
            ]
          },
          "metadata": {
            "tags": [],
            "needs_background": "light"
          }
        },
        {
          "output_type": "display_data",
          "data": {
            "image/png": "[encoded data removed]",
            "text/plain": [
              "<Figure size 432x288 with 1 Axes>"
            ]
          },
          "metadata": {
            "tags": [],
            "needs_background": "light"
          }
        },
        {
          "output_type": "display_data",
          "data": {
            "text/plain": [
              "<Figure size 432x288 with 0 Axes>"
            ]
          },
          "metadata": {
            "tags": []
          }
        }
      ]
    }
  ]
}